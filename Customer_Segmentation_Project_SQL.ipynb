{
  "nbformat": 4,
  "nbformat_minor": 0,
  "metadata": {
    "colab": {
      "provenance": []
    },
    "kernelspec": {
      "name": "python3",
      "display_name": "Python 3"
    },
    "language_info": {
      "name": "python"
    }
  },
  "cells": [
    {
      "cell_type": "code",
      "execution_count": 2,
      "metadata": {
        "colab": {
          "base_uri": "https://localhost:8080/",
          "height": 69
        },
        "id": "qUGwFvk52cF3",
        "outputId": "eec86ea7-4c0c-4ddc-cf16-1dfffe6572ed"
      },
      "outputs": [
        {
          "output_type": "display_data",
          "data": {
            "text/plain": [
              "<IPython.core.display.HTML object>"
            ],
            "text/html": [
              "\n",
              "     <input type=\"file\" id=\"files-ab69fcd1-69a8-4980-9e08-7faa1794d9b2\" name=\"files[]\" multiple disabled\n",
              "        style=\"border:none\" />\n",
              "     <output id=\"result-ab69fcd1-69a8-4980-9e08-7faa1794d9b2\">\n",
              "      Upload widget is only available when the cell has been executed in the\n",
              "      current browser session. Please rerun this cell to enable.\n",
              "      </output>\n",
              "      <script>// Copyright 2017 Google LLC\n",
              "//\n",
              "// Licensed under the Apache License, Version 2.0 (the \"License\");\n",
              "// you may not use this file except in compliance with the License.\n",
              "// You may obtain a copy of the License at\n",
              "//\n",
              "//      http://www.apache.org/licenses/LICENSE-2.0\n",
              "//\n",
              "// Unless required by applicable law or agreed to in writing, software\n",
              "// distributed under the License is distributed on an \"AS IS\" BASIS,\n",
              "// WITHOUT WARRANTIES OR CONDITIONS OF ANY KIND, either express or implied.\n",
              "// See the License for the specific language governing permissions and\n",
              "// limitations under the License.\n",
              "\n",
              "/**\n",
              " * @fileoverview Helpers for google.colab Python module.\n",
              " */\n",
              "(function(scope) {\n",
              "function span(text, styleAttributes = {}) {\n",
              "  const element = document.createElement('span');\n",
              "  element.textContent = text;\n",
              "  for (const key of Object.keys(styleAttributes)) {\n",
              "    element.style[key] = styleAttributes[key];\n",
              "  }\n",
              "  return element;\n",
              "}\n",
              "\n",
              "// Max number of bytes which will be uploaded at a time.\n",
              "const MAX_PAYLOAD_SIZE = 100 * 1024;\n",
              "\n",
              "function _uploadFiles(inputId, outputId) {\n",
              "  const steps = uploadFilesStep(inputId, outputId);\n",
              "  const outputElement = document.getElementById(outputId);\n",
              "  // Cache steps on the outputElement to make it available for the next call\n",
              "  // to uploadFilesContinue from Python.\n",
              "  outputElement.steps = steps;\n",
              "\n",
              "  return _uploadFilesContinue(outputId);\n",
              "}\n",
              "\n",
              "// This is roughly an async generator (not supported in the browser yet),\n",
              "// where there are multiple asynchronous steps and the Python side is going\n",
              "// to poll for completion of each step.\n",
              "// This uses a Promise to block the python side on completion of each step,\n",
              "// then passes the result of the previous step as the input to the next step.\n",
              "function _uploadFilesContinue(outputId) {\n",
              "  const outputElement = document.getElementById(outputId);\n",
              "  const steps = outputElement.steps;\n",
              "\n",
              "  const next = steps.next(outputElement.lastPromiseValue);\n",
              "  return Promise.resolve(next.value.promise).then((value) => {\n",
              "    // Cache the last promise value to make it available to the next\n",
              "    // step of the generator.\n",
              "    outputElement.lastPromiseValue = value;\n",
              "    return next.value.response;\n",
              "  });\n",
              "}\n",
              "\n",
              "/**\n",
              " * Generator function which is called between each async step of the upload\n",
              " * process.\n",
              " * @param {string} inputId Element ID of the input file picker element.\n",
              " * @param {string} outputId Element ID of the output display.\n",
              " * @return {!Iterable<!Object>} Iterable of next steps.\n",
              " */\n",
              "function* uploadFilesStep(inputId, outputId) {\n",
              "  const inputElement = document.getElementById(inputId);\n",
              "  inputElement.disabled = false;\n",
              "\n",
              "  const outputElement = document.getElementById(outputId);\n",
              "  outputElement.innerHTML = '';\n",
              "\n",
              "  const pickedPromise = new Promise((resolve) => {\n",
              "    inputElement.addEventListener('change', (e) => {\n",
              "      resolve(e.target.files);\n",
              "    });\n",
              "  });\n",
              "\n",
              "  const cancel = document.createElement('button');\n",
              "  inputElement.parentElement.appendChild(cancel);\n",
              "  cancel.textContent = 'Cancel upload';\n",
              "  const cancelPromise = new Promise((resolve) => {\n",
              "    cancel.onclick = () => {\n",
              "      resolve(null);\n",
              "    };\n",
              "  });\n",
              "\n",
              "  // Wait for the user to pick the files.\n",
              "  const files = yield {\n",
              "    promise: Promise.race([pickedPromise, cancelPromise]),\n",
              "    response: {\n",
              "      action: 'starting',\n",
              "    }\n",
              "  };\n",
              "\n",
              "  cancel.remove();\n",
              "\n",
              "  // Disable the input element since further picks are not allowed.\n",
              "  inputElement.disabled = true;\n",
              "\n",
              "  if (!files) {\n",
              "    return {\n",
              "      response: {\n",
              "        action: 'complete',\n",
              "      }\n",
              "    };\n",
              "  }\n",
              "\n",
              "  for (const file of files) {\n",
              "    const li = document.createElement('li');\n",
              "    li.append(span(file.name, {fontWeight: 'bold'}));\n",
              "    li.append(span(\n",
              "        `(${file.type || 'n/a'}) - ${file.size} bytes, ` +\n",
              "        `last modified: ${\n",
              "            file.lastModifiedDate ? file.lastModifiedDate.toLocaleDateString() :\n",
              "                                    'n/a'} - `));\n",
              "    const percent = span('0% done');\n",
              "    li.appendChild(percent);\n",
              "\n",
              "    outputElement.appendChild(li);\n",
              "\n",
              "    const fileDataPromise = new Promise((resolve) => {\n",
              "      const reader = new FileReader();\n",
              "      reader.onload = (e) => {\n",
              "        resolve(e.target.result);\n",
              "      };\n",
              "      reader.readAsArrayBuffer(file);\n",
              "    });\n",
              "    // Wait for the data to be ready.\n",
              "    let fileData = yield {\n",
              "      promise: fileDataPromise,\n",
              "      response: {\n",
              "        action: 'continue',\n",
              "      }\n",
              "    };\n",
              "\n",
              "    // Use a chunked sending to avoid message size limits. See b/62115660.\n",
              "    let position = 0;\n",
              "    do {\n",
              "      const length = Math.min(fileData.byteLength - position, MAX_PAYLOAD_SIZE);\n",
              "      const chunk = new Uint8Array(fileData, position, length);\n",
              "      position += length;\n",
              "\n",
              "      const base64 = btoa(String.fromCharCode.apply(null, chunk));\n",
              "      yield {\n",
              "        response: {\n",
              "          action: 'append',\n",
              "          file: file.name,\n",
              "          data: base64,\n",
              "        },\n",
              "      };\n",
              "\n",
              "      let percentDone = fileData.byteLength === 0 ?\n",
              "          100 :\n",
              "          Math.round((position / fileData.byteLength) * 100);\n",
              "      percent.textContent = `${percentDone}% done`;\n",
              "\n",
              "    } while (position < fileData.byteLength);\n",
              "  }\n",
              "\n",
              "  // All done.\n",
              "  yield {\n",
              "    response: {\n",
              "      action: 'complete',\n",
              "    }\n",
              "  };\n",
              "}\n",
              "\n",
              "scope.google = scope.google || {};\n",
              "scope.google.colab = scope.google.colab || {};\n",
              "scope.google.colab._files = {\n",
              "  _uploadFiles,\n",
              "  _uploadFilesContinue,\n",
              "};\n",
              "})(self);\n",
              "</script> "
            ]
          },
          "metadata": {}
        },
        {
          "output_type": "stream",
          "name": "stdout",
          "text": [
            "Saving Hotel Reservation Dataset.csv to Hotel Reservation Dataset.csv\n"
          ]
        }
      ],
      "source": [
        "# Import necessary libraries\n",
        "import pandas as pd\n",
        "import sqlite3\n",
        "\n",
        "# Upload the dataset to Colab\n",
        "from google.colab import files\n",
        "uploaded = files.upload()\n",
        "\n",
        "# Read the dataset into a pandas DataFrame\n",
        "df = pd.read_csv('Hotel Reservation Dataset.csv')\n",
        "\n",
        "# Create a SQLite database and write the DataFrame to it\n",
        "conn = sqlite3.connect('hotel_reservations.db')\n",
        "df.to_sql('reservations', conn, if_exists='replace', index=False)\n",
        "\n",
        "# Create a cursor object to execute SQL queries\n",
        "cur = conn.cursor()"
      ]
    },
    {
      "cell_type": "markdown",
      "source": [
        "1. What is the total number of reservations in the dataset?"
      ],
      "metadata": {
        "id": "SyDPQhfU1MEX"
      }
    },
    {
      "source": [
        "# Read the CSV file into a DataFrame\n",
        "df = pd.read_csv('Hotel Reservation Dataset.csv')\n",
        "\n",
        "# Create a SQLite database in memory\n",
        "con = sqlite3.connect(':memory:')\n",
        "\n",
        "# Write the DataFrame to the database\n",
        "df.to_sql('hotel_reservations', con, if_exists='replace', index=False)\n",
        "\n",
        "# Execute SQL queries on the database\n",
        "cur = con.cursor()\n",
        "cur.execute(\"SELECT SUM(no_of_adults) AS total_adults, SUM(no_of_children) AS total_children FROM hotel_reservations;\")\n",
        "rows = cur.fetchall()\n",
        "\n",
        "# Print the results\n",
        "for row in rows:\n",
        "  print(row)\n",
        "\n",
        "# Close the connection to the database\n",
        "con.close()"
      ],
      "cell_type": "code",
      "metadata": {
        "colab": {
          "base_uri": "https://localhost:8080/"
        },
        "id": "bIXUhsVC4J9y",
        "outputId": "367f2922-2030-4b69-ae7a-aeb30a8d43b2"
      },
      "execution_count": 15,
      "outputs": [
        {
          "output_type": "stream",
          "name": "stdout",
          "text": [
            "(1316, 69)\n"
          ]
        }
      ]
    },
    {
      "cell_type": "markdown",
      "source": [
        "Hence, total 1316 + 69 = 1385 hotel reservations"
      ],
      "metadata": {
        "id": "FXFGvuIv65YQ"
      }
    },
    {
      "cell_type": "markdown",
      "source": [
        "**1 To count the confirmed and cancelled reservations of adults and children :"
      ],
      "metadata": {
        "id": "TkJppSkb778_"
      }
    },
    {
      "cell_type": "code",
      "source": [
        "# Read the CSV file into a DataFrame\n",
        "df = pd.read_csv('Hotel Reservation Dataset.csv')\n",
        "\n",
        "# Create a SQLite database in memory\n",
        "con = sqlite3.connect(':memory:')\n",
        "\n",
        "# Write the DataFrame to the database\n",
        "df.to_sql('hotel_reservations', con, if_exists='replace', index=False)\n",
        "\n",
        "# Execute SQL queries on the database\n",
        "cur = con.cursor()\n",
        "cur.execute(\"SELECT booking_status, SUM(no_of_adults) AS total_adults, SUM(no_of_children) AS total_children FROM hotel_reservations GROUP BY booking_status;\")\n",
        "rows = cur.fetchall()\n",
        "\n",
        "# Print the results\n",
        "for row in rows:\n",
        "  print(row)\n",
        "\n",
        "# Close the connection to the database\n",
        "con.close()"
      ],
      "metadata": {
        "colab": {
          "base_uri": "https://localhost:8080/"
        },
        "id": "jsHHaYW67iOL",
        "outputId": "92f039ad-873e-4474-8731-22d5d455ce1b"
      },
      "execution_count": 16,
      "outputs": [
        {
          "output_type": "stream",
          "name": "stdout",
          "text": [
            "('Canceled', 402, 31)\n",
            "('Not_Canceled', 914, 38)\n"
          ]
        }
      ]
    },
    {
      "cell_type": "markdown",
      "source": [
        "Hence, total cancelled reservations = 402 + 31 = 433 and total confirmed reservations = 914 + 38 = 952"
      ],
      "metadata": {
        "id": "OuAbIl258Pus"
      }
    },
    {
      "cell_type": "markdown",
      "source": [
        "2. Which meal plan is the most popular among guests?"
      ],
      "metadata": {
        "id": "YV3o17PC1QNj"
      }
    },
    {
      "cell_type": "code",
      "source": [
        "# Read the CSV file into a DataFrame\n",
        "df = pd.read_csv('Hotel Reservation Dataset.csv')\n",
        "\n",
        "# Create a SQLite database in memory\n",
        "con = sqlite3.connect(':memory:')\n",
        "\n",
        "# Write the DataFrame to the database\n",
        "df.to_sql('hotel_reservations', con, if_exists='replace', index=False)\n",
        "\n",
        "# Execute SQL queries on the database\n",
        "cur = con.cursor()\n",
        "cur.execute(\"SELECT type_of_meal_plan, COUNT(Booking_ID) AS reservation_count FROM hotel_reservations GROUP BY type_of_meal_plan ORDER BY reservation_count DESC LIMIT 1;\")\n",
        "rows = cur.fetchall()\n",
        "\n",
        "# Print the results\n",
        "for row in rows:\n",
        "  print(row)\n",
        "\n",
        "# Close the connection to the database\n",
        "con.close()"
      ],
      "metadata": {
        "colab": {
          "base_uri": "https://localhost:8080/"
        },
        "id": "SCrKMtdQ8U5N",
        "outputId": "f1564e15-11bb-42d7-cabc-1dcf32b19174"
      },
      "execution_count": null,
      "outputs": [
        {
          "output_type": "stream",
          "name": "stdout",
          "text": [
            "('Meal Plan 1', 527)\n"
          ]
        }
      ]
    },
    {
      "cell_type": "markdown",
      "source": [
        "3. What is the average price per room for reservations involving children?"
      ],
      "metadata": {
        "id": "g7xIKYCk1RpC"
      }
    },
    {
      "source": [
        "# Read the CSV file into a DataFrame\n",
        "df = pd.read_csv('Hotel Reservation Dataset.csv')\n",
        "\n",
        "# Create a SQLite database in memory\n",
        "con = sqlite3.connect(':memory:')\n",
        "\n",
        "# Write the DataFrame to the database\n",
        "df.to_sql('hotel_reservations', con, if_exists='replace', index=False)\n",
        "\n",
        "# Execute SQL queries on the database\n",
        "cur = con.cursor()\n",
        "cur.execute(\"SELECT round(AVG(avg_price_per_room)) AS avg_price FROM hotel_reservations WHERE no_of_children > 0;\")\n",
        "rows = cur.fetchall()\n",
        "\n",
        "# Print the results\n",
        "for row in rows:\n",
        "  print(row)\n",
        "\n",
        "# Close the connection to the database\n",
        "con.close()"
      ],
      "cell_type": "code",
      "metadata": {
        "colab": {
          "base_uri": "https://localhost:8080/"
        },
        "id": "xnCdOiBqznT3",
        "outputId": "846ae0be-55c0-4e7a-b4b2-77a21db11828"
      },
      "execution_count": null,
      "outputs": [
        {
          "output_type": "stream",
          "name": "stdout",
          "text": [
            "(145.0,)\n"
          ]
        }
      ]
    },
    {
      "cell_type": "markdown",
      "source": [
        "4. How many reservations were made for the year 2018 ?\n"
      ],
      "metadata": {
        "id": "B23QoBQM1S1_"
      }
    },
    {
      "source": [
        "# Read the CSV file into a DataFrame\n",
        "df = pd.read_csv('Hotel Reservation Dataset.csv')\n",
        "\n",
        "# Create a SQLite database in memory\n",
        "con = sqlite3.connect(':memory:')\n",
        "\n",
        "# Write the DataFrame to the database\n",
        "df.to_sql('hotel_reservations', con, if_exists='replace', index=False)\n",
        "\n",
        "# Execute SQL queries on the database\n",
        "cur = con.cursor()\n",
        "cur.execute(\"SELECT COUNT(Booking_ID) AS Total_Reservation_2018 FROM hotel_reservations WHERE arrival_date like '%2018%';\")\n",
        "rows = cur.fetchall()\n",
        "\n",
        "# Print the results\n",
        "for row in rows:\n",
        "  print(row)\n",
        "\n",
        "# Close the connection to the database\n",
        "con.close()"
      ],
      "cell_type": "code",
      "metadata": {
        "colab": {
          "base_uri": "https://localhost:8080/"
        },
        "id": "9BaicGcv0LQc",
        "outputId": "4a701662-8e96-4297-b846-10cea29edf1e"
      },
      "execution_count": null,
      "outputs": [
        {
          "output_type": "stream",
          "name": "stdout",
          "text": [
            "(577,)\n"
          ]
        }
      ]
    },
    {
      "cell_type": "markdown",
      "source": [
        "5. What is the most commonly booked room type?"
      ],
      "metadata": {
        "id": "F960zq81If9S"
      }
    },
    {
      "source": [
        "# Read the CSV file into a DataFrame\n",
        "df = pd.read_csv('Hotel Reservation Dataset.csv')\n",
        "\n",
        "# Create a SQLite database in memory\n",
        "con = sqlite3.connect(':memory:')\n",
        "\n",
        "# Write the DataFrame to the database\n",
        "df.to_sql('hotel_reservations', con, if_exists='replace', index=False)\n",
        "\n",
        "# Execute SQL queries on the database\n",
        "cur = con.cursor()\n",
        "cur.execute(\"SELECT room_type_reserved, COUNT(Booking_ID) AS reservation_count FROM hotel_reservations GROUP BY room_type_reserved ORDER BY reservation_count DESC LIMIT 1;\")\n",
        "rows = cur.fetchall()\n",
        "\n",
        "# Print the results\n",
        "for row in rows:\n",
        "  print(row)\n",
        "\n",
        "# Close the connection to the database\n",
        "con.close()"
      ],
      "cell_type": "code",
      "metadata": {
        "colab": {
          "base_uri": "https://localhost:8080/"
        },
        "id": "GG6yP7nZIYGr",
        "outputId": "39250d5b-a988-43e0-858d-943859c1fab2"
      },
      "execution_count": null,
      "outputs": [
        {
          "output_type": "stream",
          "name": "stdout",
          "text": [
            "('Room_Type 1', 534)\n"
          ]
        }
      ]
    },
    {
      "cell_type": "markdown",
      "source": [
        "6. How many reservations fall on a weekend ?"
      ],
      "metadata": {
        "id": "MhKQeLikJeJu"
      }
    },
    {
      "source": [
        "# Read the CSV file into a DataFrame\n",
        "df = pd.read_csv('Hotel Reservation Dataset.csv')\n",
        "\n",
        "# Create a SQLite database in memory\n",
        "con = sqlite3.connect(':memory:')\n",
        "\n",
        "# Write the DataFrame to the database\n",
        "df.to_sql('hotel_reservations', con, if_exists='replace', index=False)\n",
        "\n",
        "# Execute SQL queries on the database\n",
        "cur = con.cursor()\n",
        "cur.execute(\"SELECT COUNT(no_of_weekend_nights) AS weekend_reservations FROM hotel_reservations WHERE no_of_weekend_nights > 0;\")\n",
        "rows = cur.fetchall()\n",
        "\n",
        "# Print the results\n",
        "for row in rows:\n",
        "  print(row)\n",
        "\n",
        "# Close the connection to the database\n",
        "con.close()"
      ],
      "cell_type": "code",
      "metadata": {
        "colab": {
          "base_uri": "https://localhost:8080/"
        },
        "id": "3nsJSUjAJfF-",
        "outputId": "6c290909-84c2-49a6-b5cf-b25fd2677079"
      },
      "execution_count": null,
      "outputs": [
        {
          "output_type": "stream",
          "name": "stdout",
          "text": [
            "(383,)\n"
          ]
        }
      ]
    },
    {
      "cell_type": "markdown",
      "source": [
        "7. What is the highest and lowest lead time for reservations?"
      ],
      "metadata": {
        "id": "dDc2as-pIqAf"
      }
    },
    {
      "source": [
        "# Read the CSV file into a DataFrame\n",
        "df = pd.read_csv('Hotel Reservation Dataset.csv')\n",
        "\n",
        "# Create a SQLite database in memory\n",
        "con = sqlite3.connect(':memory:')\n",
        "\n",
        "# Write the DataFrame to the database\n",
        "df.to_sql('hotel_reservations', con, if_exists='replace', index=False)\n",
        "\n",
        "# Execute SQL queries on the database\n",
        "cur = con.cursor()\n",
        "cur.execute(\"SELECT MAX(lead_time) AS max_lead_time, MIN(lead_time) AS min_lead_time FROM hotel_reservations;\")\n",
        "rows = cur.fetchall()\n",
        "\n",
        "# Print the results\n",
        "for row in rows:\n",
        "  print(row)\n",
        "\n",
        "# Close the connection to the database\n",
        "con.close()"
      ],
      "cell_type": "code",
      "metadata": {
        "colab": {
          "base_uri": "https://localhost:8080/"
        },
        "id": "FMtBGZNcKUHV",
        "outputId": "e1ad8576-cbb7-455f-f4a4-5baeb0ea2a56"
      },
      "execution_count": null,
      "outputs": [
        {
          "output_type": "stream",
          "name": "stdout",
          "text": [
            "(443, 0)\n"
          ]
        }
      ]
    },
    {
      "cell_type": "markdown",
      "source": [
        "8. What is the most common market segment type for reservations?"
      ],
      "metadata": {
        "id": "LO2pfNjBNHk8"
      }
    },
    {
      "source": [
        "# Read the CSV file into a DataFrame\n",
        "df = pd.read_csv('Hotel Reservation Dataset.csv')\n",
        "\n",
        "# Create a SQLite database in memory\n",
        "con = sqlite3.connect(':memory:')\n",
        "\n",
        "# Write the DataFrame to the database\n",
        "df.to_sql('hotel_reservations', con, if_exists='replace', index=False)\n",
        "\n",
        "# Execute SQL queries on the database\n",
        "cur = con.cursor()\n",
        "cur.execute(\"SELECT market_segment_type, COUNT(Booking_ID) AS reservation_count FROM hotel_reservations GROUP BY market_segment_type ORDER BY reservation_count DESC LIMIT 1;\")\n",
        "rows = cur.fetchall()\n",
        "\n",
        "# Print the results\n",
        "for row in rows:\n",
        "  print(row)\n",
        "\n",
        "# Close the connection to the database\n",
        "con.close()"
      ],
      "cell_type": "code",
      "metadata": {
        "colab": {
          "base_uri": "https://localhost:8080/"
        },
        "id": "BCUorZ-oNSEf",
        "outputId": "2133ffb0-3041-4960-ae75-f6c1fa06e34e"
      },
      "execution_count": null,
      "outputs": [
        {
          "output_type": "stream",
          "name": "stdout",
          "text": [
            "('Online', 518)\n"
          ]
        }
      ]
    },
    {
      "cell_type": "markdown",
      "source": [
        "9. How many reservations have a booking status of \"Confirmed\"?"
      ],
      "metadata": {
        "id": "C_vryvuVOOb_"
      }
    },
    {
      "source": [
        "# Read the CSV file into a DataFrame\n",
        "df = pd.read_csv('Hotel Reservation Dataset.csv')\n",
        "\n",
        "# Create a SQLite database in memory\n",
        "con = sqlite3.connect(':memory:')\n",
        "\n",
        "# Write the DataFrame to the database\n",
        "df.to_sql('hotel_reservations', con, if_exists='replace', index=False)\n",
        "\n",
        "# Execute SQL queries on the database\n",
        "cur = con.cursor()\n",
        "cur.execute(\"SELECT COUNT(Booking_ID) AS confirmed_reservations FROM hotel_reservations WHERE booking_status = 'Not_Canceled';\")\n",
        "rows = cur.fetchall()\n",
        "\n",
        "# Print the results\n",
        "for row in rows:\n",
        "  print(row)\n",
        "\n",
        "# Close the connection to the database\n",
        "con.close()"
      ],
      "cell_type": "code",
      "metadata": {
        "colab": {
          "base_uri": "https://localhost:8080/"
        },
        "id": "HYalK6sUOPRv",
        "outputId": "2608736a-7343-4013-db16-3df1f67d6d64"
      },
      "execution_count": null,
      "outputs": [
        {
          "output_type": "stream",
          "name": "stdout",
          "text": [
            "(493,)\n"
          ]
        }
      ]
    },
    {
      "cell_type": "markdown",
      "source": [
        "10. What is the total number of adults and children across all reservations?"
      ],
      "metadata": {
        "id": "w773U_1he95K"
      }
    },
    {
      "source": [
        "# Read the CSV file into a DataFrame\n",
        "df = pd.read_csv('Hotel Reservation Dataset.csv')\n",
        "\n",
        "# Create a SQLite database in memory\n",
        "con = sqlite3.connect(':memory:')\n",
        "\n",
        "# Write the DataFrame to the database\n",
        "df.to_sql('hotel_reservations', con, if_exists='replace', index=False)\n",
        "\n",
        "# Execute SQL queries on the database\n",
        "cur = con.cursor()\n",
        "cur.execute(\"SELECT SUM(no_of_adults) AS total_adults, SUM(no_of_children) AS total_children FROM hotel_reservations;\")\n",
        "rows = cur.fetchall()\n",
        "\n",
        "# Print the results\n",
        "for row in rows:\n",
        "  print(row)\n",
        "\n",
        "# Close the connection to the database\n",
        "con.close()"
      ],
      "cell_type": "code",
      "metadata": {
        "colab": {
          "base_uri": "https://localhost:8080/"
        },
        "id": "BthvP0mEfA4e",
        "outputId": "0bdafed9-b83a-4f02-8dfb-3ffab0413a72"
      },
      "execution_count": null,
      "outputs": [
        {
          "output_type": "stream",
          "name": "stdout",
          "text": [
            "(1316, 69)\n"
          ]
        }
      ]
    },
    {
      "cell_type": "markdown",
      "source": [
        "11. What is the average number of weekend nights for reservations involving children?"
      ],
      "metadata": {
        "id": "QpSZ-BS-fcxV"
      }
    },
    {
      "source": [
        "# Read the CSV file into a DataFrame\n",
        "df = pd.read_csv('Hotel Reservation Dataset.csv')\n",
        "\n",
        "# Create a SQLite database in memory\n",
        "con = sqlite3.connect(':memory:')\n",
        "\n",
        "# Write the DataFrame to the database\n",
        "df.to_sql('hotel_reservations', con, if_exists='replace', index=False)\n",
        "\n",
        "# Execute SQL queries on the database\n",
        "cur = con.cursor()\n",
        "cur.execute(\"SELECT AVG(no_of_weekend_nights) AS avg_weekend_nights FROM hotel_reservations WHERE no_of_children > 0;\")\n",
        "rows = cur.fetchall()\n",
        "\n",
        "# Print the results\n",
        "for row in rows:\n",
        "  print(row)\n",
        "\n",
        "# Close the connection to the database\n",
        "con.close()"
      ],
      "cell_type": "code",
      "metadata": {
        "colab": {
          "base_uri": "https://localhost:8080/"
        },
        "id": "awzMsPnSfdqS",
        "outputId": "efde5f56-40a4-4c33-ca9c-0e8feb08f0ab"
      },
      "execution_count": null,
      "outputs": [
        {
          "output_type": "stream",
          "name": "stdout",
          "text": [
            "(1.0,)\n"
          ]
        }
      ]
    },
    {
      "cell_type": "markdown",
      "source": [
        "12. How many reservations were made in each month of the year?"
      ],
      "metadata": {
        "id": "f3-3gXyJ0dwk"
      }
    },
    {
      "source": [
        "# Read the CSV file into a DataFrame\n",
        "df = pd.read_csv('Hotel Reservation Dataset.csv')\n",
        "\n",
        "# Create a SQLite database in memory\n",
        "con = sqlite3.connect(':memory:')\n",
        "\n",
        "# Write the DataFrame to the database\n",
        "df.to_sql('hotel_reservations', con, if_exists='replace', index=False)\n",
        "\n",
        "# Execute SQL queries on the database\n",
        "cur = con.cursor()\n",
        "cur.execute(\"SELECT arrival_date as month,COUNT(Booking_ID) as reservation_per_month FROM hotel_reservations group by arrival_date\")\n",
        "rows = cur.fetchall()\n",
        "\n",
        "# Print the results\n",
        "for row in rows:\n",
        "  print(row)\n",
        "\n",
        "# Close the connection to the database\n",
        "con.close()"
      ],
      "cell_type": "code",
      "metadata": {
        "colab": {
          "base_uri": "https://localhost:8080/"
        },
        "id": "2QuKW5NX0ebq",
        "outputId": "7a2ac3dc-fe20-457c-83c7-02795951f1ff"
      },
      "execution_count": null,
      "outputs": [
        {
          "output_type": "stream",
          "name": "stdout",
          "text": [
            "('01-03-2018', 1)\n",
            "('01-04-2018', 5)\n",
            "('01-05-2018', 2)\n",
            "('01-06-2018', 1)\n",
            "('01-07-2017', 2)\n",
            "('01-07-2018', 2)\n",
            "('01-08-2018', 3)\n",
            "('01-09-2018', 1)\n",
            "('01-10-2017', 1)\n",
            "('01-10-2018', 2)\n",
            "('01-11-2018', 4)\n",
            "('02-01-2018', 3)\n",
            "('02-04-2018', 1)\n",
            "('02-05-2018', 3)\n",
            "('02-07-2018', 1)\n",
            "('02-09-2017', 1)\n",
            "('02-09-2018', 2)\n",
            "('02-10-2017', 4)\n",
            "('02-10-2018', 2)\n",
            "('02-11-2017', 2)\n",
            "('02-11-2018', 1)\n",
            "('02-12-2018', 4)\n",
            "('03-02-2018', 1)\n",
            "('03-03-2018', 1)\n",
            "('03-04-2018', 2)\n",
            "('03-05-2018', 1)\n",
            "('03-06-2018', 3)\n",
            "('03-08-2018', 4)\n",
            "('03-09-2017', 1)\n",
            "('03-09-2018', 3)\n",
            "('03-10-2018', 1)\n",
            "('03-11-2018', 3)\n",
            "('03-12-2018', 2)\n",
            "('04-02-2018', 1)\n",
            "('04-03-2018', 2)\n",
            "('04-04-2018', 4)\n",
            "('04-05-2018', 2)\n",
            "('04-07-2018', 1)\n",
            "('04-08-2018', 2)\n",
            "('04-09-2017', 1)\n",
            "('04-09-2018', 1)\n",
            "('04-10-2017', 1)\n",
            "('04-10-2018', 1)\n",
            "('04-11-2018', 2)\n",
            "('05-02-2018', 1)\n",
            "('05-03-2018', 2)\n",
            "('05-04-2018', 2)\n",
            "('05-05-2018', 3)\n",
            "('05-06-2018', 2)\n",
            "('05-07-2018', 1)\n",
            "('05-09-2017', 2)\n",
            "('05-09-2018', 2)\n",
            "('05-10-2017', 1)\n",
            "('05-10-2018', 1)\n",
            "('05-11-2018', 2)\n",
            "('05-12-2017', 1)\n",
            "('05-12-2018', 4)\n",
            "('06-01-2018', 1)\n",
            "('06-02-2018', 1)\n",
            "('06-04-2018', 8)\n",
            "('06-06-2018', 3)\n",
            "('06-07-2018', 3)\n",
            "('06-08-2018', 2)\n",
            "('06-09-2017', 1)\n",
            "('06-09-2018', 2)\n",
            "('06-10-2017', 1)\n",
            "('06-10-2018', 2)\n",
            "('06-11-2017', 1)\n",
            "('06-11-2018', 3)\n",
            "('07-03-2018', 1)\n",
            "('07-04-2018', 2)\n",
            "('07-05-2018', 1)\n",
            "('07-06-2018', 2)\n",
            "('07-09-2017', 1)\n",
            "('07-09-2018', 5)\n",
            "('07-10-2017', 1)\n",
            "('07-10-2018', 3)\n",
            "('07-12-2017', 1)\n",
            "('07-12-2018', 1)\n",
            "('08-01-2018', 1)\n",
            "('08-02-2018', 2)\n",
            "('08-03-2018', 1)\n",
            "('08-04-2018', 5)\n",
            "('08-06-2018', 5)\n",
            "('08-07-2018', 2)\n",
            "('08-08-2017', 2)\n",
            "('08-08-2018', 2)\n",
            "('08-09-2017', 2)\n",
            "('08-09-2018', 1)\n",
            "('08-10-2017', 1)\n",
            "('08-12-2018', 4)\n",
            "('09-01-2018', 1)\n",
            "('09-03-2018', 2)\n",
            "('09-04-2018', 3)\n",
            "('09-05-2018', 2)\n",
            "('09-07-2018', 3)\n",
            "('09-08-2018', 1)\n",
            "('09-09-2017', 3)\n",
            "('09-09-2018', 2)\n",
            "('09-10-2017', 2)\n",
            "('09-11-2017', 2)\n",
            "('09-12-2017', 1)\n",
            "('09-12-2018', 1)\n",
            "('10-03-2018', 3)\n",
            "('10-04-2018', 3)\n",
            "('10-06-2018', 3)\n",
            "('10-07-2018', 3)\n",
            "('10-08-2017', 2)\n",
            "('10-08-2018', 1)\n",
            "('10-09-2017', 2)\n",
            "('10-10-2017', 1)\n",
            "('10-10-2018', 1)\n",
            "('10-11-2018', 1)\n",
            "('10-12-2018', 2)\n",
            "('11-02-2018', 3)\n",
            "('11-03-2018', 1)\n",
            "('11-04-2018', 2)\n",
            "('11-05-2018', 1)\n",
            "('11-06-2018', 3)\n",
            "('11-07-2018', 1)\n",
            "('11-08-2017', 1)\n",
            "('11-09-2017', 1)\n",
            "('11-09-2018', 2)\n",
            "('11-10-2018', 4)\n",
            "('11-11-2017', 1)\n",
            "('11-11-2018', 1)\n",
            "('12-05-2018', 3)\n",
            "('12-06-2018', 3)\n",
            "('12-07-2018', 1)\n",
            "('12-08-2017', 1)\n",
            "('12-08-2018', 1)\n",
            "('12-11-2018', 2)\n",
            "('13-03-2018', 1)\n",
            "('13-04-2018', 1)\n",
            "('13-05-2018', 9)\n",
            "('13-06-2018', 2)\n",
            "('13-07-2018', 1)\n",
            "('13-08-2018', 7)\n",
            "('13-09-2017', 2)\n",
            "('13-09-2018', 3)\n",
            "('13-10-2017', 1)\n",
            "('13-10-2018', 7)\n",
            "('13-11-2018', 2)\n",
            "('13-12-2018', 1)\n",
            "('14-03-2018', 1)\n",
            "('14-04-2018', 2)\n",
            "('14-05-2018', 2)\n",
            "('14-06-2018', 3)\n",
            "('14-07-2018', 1)\n",
            "('14-08-2017', 3)\n",
            "('14-09-2017', 1)\n",
            "('14-09-2018', 2)\n",
            "('14-10-2017', 2)\n",
            "('14-10-2018', 3)\n",
            "('14-11-2017', 1)\n",
            "('14-11-2018', 2)\n",
            "('14-12-2018', 1)\n",
            "('15-03-2018', 1)\n",
            "('15-04-2018', 4)\n",
            "('15-06-2018', 10)\n",
            "('15-08-2018', 3)\n",
            "('15-09-2017', 1)\n",
            "('15-09-2018', 1)\n",
            "('15-10-2017', 2)\n",
            "('15-10-2018', 2)\n",
            "('15-11-2017', 1)\n",
            "('15-12-2017', 1)\n",
            "('16-01-2018', 1)\n",
            "('16-02-2018', 2)\n",
            "('16-03-2018', 3)\n",
            "('16-05-2018', 2)\n",
            "('16-06-2018', 2)\n",
            "('16-07-2017', 1)\n",
            "('16-09-2017', 1)\n",
            "('16-09-2018', 4)\n",
            "('16-10-2017', 4)\n",
            "('16-10-2018', 2)\n",
            "('16-11-2018', 3)\n",
            "('16-12-2018', 2)\n",
            "('17-02-2018', 1)\n",
            "('17-03-2018', 1)\n",
            "('17-04-2018', 2)\n",
            "('17-06-2018', 6)\n",
            "('17-07-2017', 3)\n",
            "('17-07-2018', 1)\n",
            "('17-08-2018', 2)\n",
            "('17-09-2017', 2)\n",
            "('17-10-2017', 2)\n",
            "('17-10-2018', 4)\n",
            "('17-11-2018', 2)\n",
            "('17-12-2017', 1)\n",
            "('18-03-2018', 3)\n",
            "('18-06-2018', 4)\n",
            "('18-07-2018', 1)\n",
            "('18-08-2017', 1)\n",
            "('18-08-2018', 4)\n",
            "('18-09-2017', 3)\n",
            "('18-09-2018', 2)\n",
            "('18-10-2017', 2)\n",
            "('18-10-2018', 4)\n",
            "('18-11-2017', 1)\n",
            "('18-11-2018', 3)\n",
            "('18-12-2018', 1)\n",
            "('19-02-2018', 1)\n",
            "('19-03-2018', 1)\n",
            "('19-05-2018', 3)\n",
            "('19-06-2018', 4)\n",
            "('19-08-2018', 2)\n",
            "('19-09-2017', 2)\n",
            "('19-09-2018', 2)\n",
            "('19-10-2017', 1)\n",
            "('19-10-2018', 2)\n",
            "('19-11-2017', 1)\n",
            "('19-11-2018', 4)\n",
            "('20-01-2018', 1)\n",
            "('20-02-2018', 1)\n",
            "('20-03-2018', 5)\n",
            "('20-04-2018', 2)\n",
            "('20-05-2018', 2)\n",
            "('20-06-2018', 1)\n",
            "('20-09-2018', 1)\n",
            "('20-10-2017', 3)\n",
            "('20-10-2018', 2)\n",
            "('20-11-2017', 2)\n",
            "('20-11-2018', 1)\n",
            "('21-03-2018', 1)\n",
            "('21-04-2018', 1)\n",
            "('21-05-2018', 3)\n",
            "('21-06-2018', 3)\n",
            "('21-07-2018', 1)\n",
            "('21-08-2018', 2)\n",
            "('21-09-2017', 2)\n",
            "('21-10-2017', 1)\n",
            "('21-10-2018', 2)\n",
            "('21-12-2018', 1)\n",
            "('22-02-2018', 2)\n",
            "('22-03-2018', 1)\n",
            "('22-04-2018', 2)\n",
            "('22-05-2018', 3)\n",
            "('22-08-2017', 1)\n",
            "('22-08-2018', 5)\n",
            "('22-09-2017', 2)\n",
            "('22-09-2018', 1)\n",
            "('22-10-2017', 1)\n",
            "('22-10-2018', 1)\n",
            "('22-12-2018', 1)\n",
            "('23-03-2018', 4)\n",
            "('23-04-2018', 2)\n",
            "('23-06-2018', 1)\n",
            "('23-07-2018', 4)\n",
            "('23-08-2017', 1)\n",
            "('23-10-2017', 3)\n",
            "('23-10-2018', 6)\n",
            "('23-11-2017', 1)\n",
            "('23-11-2018', 1)\n",
            "('24-02-2018', 1)\n",
            "('24-03-2018', 4)\n",
            "('24-04-2018', 3)\n",
            "('24-05-2018', 1)\n",
            "('24-06-2018', 7)\n",
            "('24-08-2018', 3)\n",
            "('24-10-2017', 1)\n",
            "('24-10-2018', 1)\n",
            "('24-12-2017', 1)\n",
            "('25-02-2018', 1)\n",
            "('25-03-2018', 4)\n",
            "('25-04-2018', 1)\n",
            "('25-06-2018', 1)\n",
            "('25-07-2017', 1)\n",
            "('25-07-2018', 3)\n",
            "('25-08-2017', 1)\n",
            "('25-08-2018', 4)\n",
            "('25-09-2017', 3)\n",
            "('25-10-2017', 1)\n",
            "('25-11-2018', 1)\n",
            "('25-12-2018', 2)\n",
            "('26-02-2018', 1)\n",
            "('26-04-2018', 1)\n",
            "('26-06-2018', 4)\n",
            "('26-07-2018', 1)\n",
            "('26-08-2017', 1)\n",
            "('26-09-2018', 2)\n",
            "('26-10-2018', 1)\n",
            "('26-11-2018', 2)\n",
            "('26-12-2017', 1)\n",
            "('26-12-2018', 5)\n",
            "('27-02-2018', 2)\n",
            "('27-04-2018', 1)\n",
            "('27-05-2018', 2)\n",
            "('27-06-2018', 4)\n",
            "('27-07-2017', 1)\n",
            "('27-07-2018', 1)\n",
            "('27-09-2018', 3)\n",
            "('27-10-2018', 1)\n",
            "('27-12-2017', 2)\n",
            "('28-01-2018', 2)\n",
            "('28-02-2018', 7)\n",
            "('28-03-2018', 1)\n",
            "('28-04-2018', 2)\n",
            "('28-06-2018', 3)\n",
            "('28-07-2018', 2)\n",
            "('28-08-2018', 4)\n",
            "('28-09-2018', 1)\n",
            "('28-10-2018', 4)\n",
            "('28-12-2018', 2)\n",
            "('29-01-2018', 1)\n",
            "('29-03-2018', 3)\n",
            "('29-04-2018', 3)\n",
            "('29-05-2018', 4)\n",
            "('29-06-2018', 1)\n",
            "('29-08-2018', 1)\n",
            "('29-09-2018', 1)\n",
            "('29-11-2018', 1)\n",
            "('29-12-2017', 3)\n",
            "('29-12-2018', 3)\n",
            "('30-03-2018', 3)\n",
            "('30-04-2018', 3)\n",
            "('30-05-2018', 3)\n",
            "('30-06-2018', 3)\n",
            "('30-07-2018', 2)\n",
            "('30-08-2018', 2)\n",
            "('30-09-2017', 1)\n",
            "('30-09-2018', 1)\n",
            "('30-10-2017', 2)\n",
            "('30-10-2018', 2)\n",
            "('30-12-2017', 1)\n",
            "('30-12-2018', 1)\n",
            "('31-03-2018', 1)\n",
            "('31-05-2018', 3)\n",
            "('31-08-2018', 1)\n",
            "('31-10-2017', 1)\n",
            "('31-10-2018', 2)\n",
            "('31-12-2018', 1)\n"
          ]
        }
      ]
    },
    {
      "cell_type": "markdown",
      "source": [
        "13. What is the average number of nights (both weekend and weekday) spent by guests for each room type?"
      ],
      "metadata": {
        "id": "I5aPvmOi9AU_"
      }
    },
    {
      "source": [
        "# Read the CSV file into a DataFrame\n",
        "df = pd.read_csv('Hotel Reservation Dataset.csv')\n",
        "\n",
        "# Create a SQLite database in memory\n",
        "con = sqlite3.connect(':memory:')\n",
        "\n",
        "# Write the DataFrame to the database\n",
        "df.to_sql('hotel_reservations', con, if_exists='replace', index=False)\n",
        "\n",
        "# Execute SQL queries on the database\n",
        "cur = con.cursor()\n",
        "cur.execute(\"SELECT room_type_reserved, round(AVG(no_of_weekend_nights + no_of_week_nights)) AS avg_total_nights FROM hotel_reservations GROUP BY room_type_reserved;\")\n",
        "rows = cur.fetchall()\n",
        "\n",
        "# Print the results\n",
        "for row in rows:\n",
        "  print(row)\n",
        "\n",
        "# Close the connection to the database\n",
        "con.close()"
      ],
      "cell_type": "code",
      "metadata": {
        "colab": {
          "base_uri": "https://localhost:8080/"
        },
        "id": "BUQvOujB9Bon",
        "outputId": "61679166-f56b-4ee9-c525-fa6bf92a9216"
      },
      "execution_count": null,
      "outputs": [
        {
          "output_type": "stream",
          "name": "stdout",
          "text": [
            "('Room_Type 1', 3.0)\n",
            "('Room_Type 2', 3.0)\n",
            "('Room_Type 4', 4.0)\n",
            "('Room_Type 5', 3.0)\n",
            "('Room_Type 6', 4.0)\n",
            "('Room_Type 7', 3.0)\n"
          ]
        }
      ]
    },
    {
      "cell_type": "markdown",
      "source": [
        "14. For reservations involving children, what is the most common room type, and what is the average price for that room type?"
      ],
      "metadata": {
        "id": "fzksJUOZ-FyI"
      }
    },
    {
      "source": [
        "# Read the CSV file into a DataFrame\n",
        "df = pd.read_csv('Hotel Reservation Dataset.csv')\n",
        "\n",
        "# Create a SQLite database in memory\n",
        "con = sqlite3.connect(':memory:')\n",
        "\n",
        "# Write the DataFrame to the database\n",
        "df.to_sql('hotel_reservations', con, if_exists='replace', index=False)\n",
        "\n",
        "# Execute SQL queries on the database\n",
        "cur = con.cursor()\n",
        "cur.execute(\"WITH child_reservations AS (SELECT room_type_reserved, avg_price_per_room FROM hotel_reservations WHERE no_of_children > 0) SELECT room_type_reserved, round(AVG(avg_price_per_room)) AS avg_price FROM child_reservations GROUP BY room_type_reserved ORDER BY COUNT(*) DESC LIMIT 1;\")\n",
        "rows = cur.fetchall()\n",
        "\n",
        "# Print the results\n",
        "for row in rows:\n",
        "  print(row)\n",
        "\n",
        "# Close the connection to the database\n",
        "con.close()"
      ],
      "cell_type": "code",
      "metadata": {
        "colab": {
          "base_uri": "https://localhost:8080/"
        },
        "id": "mAvmZsZr-HAs",
        "outputId": "92159443-34c4-4afb-b1bd-57ae22fa1ea2"
      },
      "execution_count": null,
      "outputs": [
        {
          "output_type": "stream",
          "name": "stdout",
          "text": [
            "('Room_Type 1', 123.0)\n"
          ]
        }
      ]
    },
    {
      "cell_type": "markdown",
      "source": [
        "15. Find the market segment type that generates the highest average price per room."
      ],
      "metadata": {
        "id": "qWpW9JP5-O3a"
      }
    },
    {
      "source": [
        "# Read the CSV file into a DataFrame\n",
        "df = pd.read_csv('Hotel Reservation Dataset.csv')\n",
        "\n",
        "# Create a SQLite database in memory\n",
        "con = sqlite3.connect(':memory:')\n",
        "\n",
        "# Write the DataFrame to the database\n",
        "df.to_sql('hotel_reservations', con, if_exists='replace', index=False)\n",
        "\n",
        "# Execute SQL queries on the database\n",
        "cur = con.cursor()\n",
        "cur.execute(\"SELECT market_segment_type, round(AVG(avg_price_per_room)) AS avg_price FROM hotel_reservations GROUP BY market_segment_type ORDER BY avg_price DESC LIMIT 1;\")\n",
        "rows = cur.fetchall()\n",
        "\n",
        "# Print the results\n",
        "for row in rows:\n",
        "  print(row)\n",
        "\n",
        "# Close the connection to the database\n",
        "con.close()"
      ],
      "cell_type": "code",
      "metadata": {
        "colab": {
          "base_uri": "https://localhost:8080/"
        },
        "id": "SLH-eGZp-Pom",
        "outputId": "28d9e988-c164-4c61-99d1-6607ea241886"
      },
      "execution_count": null,
      "outputs": [
        {
          "output_type": "stream",
          "name": "stdout",
          "text": [
            "('Online', 112.0)\n"
          ]
        }
      ]
    }
  ]
}